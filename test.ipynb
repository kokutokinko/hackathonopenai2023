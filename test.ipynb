{
 "cells": [
  {
   "cell_type": "code",
   "execution_count": 1,
   "id": "1173ef44-d8f0-4d15-a8c5-2b94ff84186a",
   "metadata": {
    "tags": []
   },
   "outputs": [],
   "source": [
    "import streamlit as st\n",
    "import os\n",
    "from openai import AzureOpenAI\n",
    "\n",
    "# APIの設定\n",
    "\n",
    "\n",
    "\n",
    "\n",
    "\n",
    "    \n",
    "client = AzureOpenAI(\n",
    "    api_key=os.getenv(\"AZURE_OPENAI_KEY\"),  \n",
    "    api_version=\"2023-05-15\",\n",
    "    azure_endpoint = os.getenv(\"AZURE_OPENAI_ENDPOINT\")\n",
    "    )\n",
    "deployment_name='GPT35TURBO'"
   ]
  },
  {
   "cell_type": "code",
   "execution_count": 4,
   "id": "d0d54e1e-9c0e-4276-9c32-31d044f24054",
   "metadata": {
    "tags": []
   },
   "outputs": [
    {
     "name": "stdout",
     "output_type": "stream",
     "text": [
      "------------------------\n",
      "私は多くのことができます。以下は私の一部の機能です。\n",
      "\n",
      "1. 会話をする：私はあらゆるトピックについて対話することができます。質問に答えたり、話を聞いたりすることができます。\n",
      "2. 情報を提供する：私は事実、定義、統計データなどの情報を提供することができます。例えば、歴史的な出来事や科学的な事実について簡単な説明をすることができます。\n",
      "3. 翻訳する：私は複数の言語間で翻訳を行うことができます。例えば、英語から日本語への翻訳や、日本語から英語への翻訳などが可能です。\n",
      "4. コンテンツの生成：私は文章や詩、ストーリーなどのコンテンツを生成することができます。特定のキーワードやテーマに基づいて、オリジナルの文章を作成することができます。\n",
      "5. スケジュール管理：私はリマインダーやスケジュールの設定を手伝うことができます。特定のイベントやタスクの予定を管理し、リマインド通知を送ることができます。\n",
      "\n",
      "これらは私の一部の機能ですが、他にもさまざまなことをサポートすることができます。どのようなことで私を利用したいですか？\n"
     ]
    }
   ],
   "source": [
    "response = client.chat.completions.create(\n",
    "    model=\"GPT35TURBO\", # model = \"deployment_name\".\n",
    "    messages=[\n",
    "        {\"role\": \"user\", \"content\": \"あなたはなにができますか\"}\n",
    "    ]\n",
    ")\n",
    "print(\"------------------------\")\n",
    "print(response.choices[0].message.content)"
   ]
  },
  {
   "cell_type": "code",
   "execution_count": null,
   "id": "0725a433-21bf-4537-815c-918e5ebf7e9b",
   "metadata": {},
   "outputs": [],
   "source": []
  }
 ],
 "metadata": {
  "kernelspec": {
   "display_name": "Python 3 (ipykernel)",
   "language": "python",
   "name": "python3"
  },
  "language_info": {
   "codemirror_mode": {
    "name": "ipython",
    "version": 3
   },
   "file_extension": ".py",
   "mimetype": "text/x-python",
   "name": "python",
   "nbconvert_exporter": "python",
   "pygments_lexer": "ipython3",
   "version": "3.11.5"
  }
 },
 "nbformat": 4,
 "nbformat_minor": 5
}
