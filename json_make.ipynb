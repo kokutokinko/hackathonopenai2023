{
 "cells": [
  {
   "cell_type": "code",
   "execution_count": 9,
   "id": "3c2e8bad-221e-4348-9550-6414983654fb",
   "metadata": {
    "tags": []
   },
   "outputs": [],
   "source": [
    "import json"
   ]
  },
  {
   "cell_type": "code",
   "execution_count": 5,
   "id": "4720ebcf-c0cb-448f-9dfa-25cb01adde99",
   "metadata": {
    "tags": []
   },
   "outputs": [],
   "source": [
    "messages = [{\"role\": \"system\", \"content\": \"aaaa\"}]"
   ]
  },
  {
   "cell_type": "code",
   "execution_count": 6,
   "id": "b05fead6-111f-41e3-8977-4a6253dc9a26",
   "metadata": {
    "tags": []
   },
   "outputs": [
    {
     "data": {
      "text/plain": [
       "[{'role': 'system', 'content': 'aaaa'}]"
      ]
     },
     "execution_count": 6,
     "metadata": {},
     "output_type": "execute_result"
    }
   ],
   "source": [
    "messages"
   ]
  },
  {
   "cell_type": "code",
   "execution_count": 21,
   "id": "d5aad269-817a-4203-862a-d5772b3f827f",
   "metadata": {
    "tags": []
   },
   "outputs": [],
   "source": [
    "messages.append({\"role\": \"assistant\", \"content\": \"bbb\"})\n",
    "messages.append({\"role\": \"user\", \"content\": \"bbb\"})"
   ]
  },
  {
   "cell_type": "code",
   "execution_count": 22,
   "id": "fabfdef0-e896-486a-845a-f7d6b378a64d",
   "metadata": {
    "tags": []
   },
   "outputs": [
    {
     "data": {
      "text/plain": [
       "[{'role': 'system', 'content': 'aaaa'},\n",
       " {'role': 'assistant', 'content': 'bbb'},\n",
       " {'role': 'assistant', 'content': 'bbb'},\n",
       " {'role': 'assistant', 'content': 'bbb'},\n",
       " {'role': 'user', 'content': 'bbb'},\n",
       " {'role': 'assistant', 'content': 'bbb'},\n",
       " {'role': 'user', 'content': 'bbb'}]"
      ]
     },
     "execution_count": 22,
     "metadata": {},
     "output_type": "execute_result"
    }
   ],
   "source": [
    "messages"
   ]
  },
  {
   "cell_type": "code",
   "execution_count": 23,
   "id": "dcb3f145-0cba-4750-a8eb-4ae92f472c5a",
   "metadata": {
    "tags": []
   },
   "outputs": [
    {
     "data": {
      "text/plain": [
       "'/pages/data/sample_data.json'"
      ]
     },
     "execution_count": 23,
     "metadata": {},
     "output_type": "execute_result"
    }
   ],
   "source": [
    "\n",
    "\n",
    "with open('pages/data/sample_data.json', 'w') as f:\n",
    "    json.dump(messages, f)\n",
    "\n",
    "# 作成したファイルのパスを提供\n",
    "file_name"
   ]
  },
  {
   "cell_type": "code",
   "execution_count": 15,
   "id": "82481779-4e52-448b-9e10-42a33991f7c2",
   "metadata": {
    "tags": []
   },
   "outputs": [
    {
     "name": "stdout",
     "output_type": "stream",
     "text": [
      "[{'role': 'system', 'content': 'aaaa'}, {'role': 'assistant', 'content': 'bbb'}]\n"
     ]
    }
   ],
   "source": [
    "with open('pages/data/sample_data.json', 'r') as f:\n",
    "    data_loaded = json.load(f)\n",
    "\n",
    "# 読み込んだデータの表示\n",
    "print(data_loaded)"
   ]
  },
  {
   "cell_type": "code",
   "execution_count": null,
   "id": "0fc9df41-49cc-4bfc-9ade-caafc71a7138",
   "metadata": {},
   "outputs": [],
   "source": []
  }
 ],
 "metadata": {
  "kernelspec": {
   "display_name": "Python 3 (ipykernel)",
   "language": "python",
   "name": "python3"
  },
  "language_info": {
   "codemirror_mode": {
    "name": "ipython",
    "version": 3
   },
   "file_extension": ".py",
   "mimetype": "text/x-python",
   "name": "python",
   "nbconvert_exporter": "python",
   "pygments_lexer": "ipython3",
   "version": "3.11.5"
  }
 },
 "nbformat": 4,
 "nbformat_minor": 5
}
