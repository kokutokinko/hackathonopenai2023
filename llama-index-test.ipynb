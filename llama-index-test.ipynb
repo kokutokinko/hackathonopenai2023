{
 "cells": [
  {
   "cell_type": "code",
   "execution_count": 11,
   "id": "1173ef44-d8f0-4d15-a8c5-2b94ff84186a",
   "metadata": {
    "tags": []
   },
   "outputs": [],
   "source": [
    "import os\n",
    "import openai\n",
    "import streamlit as st\n",
    "import pandas as pd\n",
    "\n",
    "from llama_index import (\n",
    "    Document,\n",
    "    GPTVectorStoreIndex,\n",
    "    LLMPredictor,\n",
    "    PromptHelper,\n",
    "    ServiceContext,\n",
    "    LangchainEmbedding\n",
    ")\n",
    "\n",
    "from langchain.chat_models import AzureChatOpenAI\n",
    "from langchain.embeddings import OpenAIEmbeddings\n",
    "from llama_index.prompts.prompts import QuestionAnswerPrompt\n",
    "\n",
    "\n",
    "\n",
    "# APIキーなどの設定\n",
    "openai.api_key = os.getenv(\"AZURE_OPENAI_KEY\")\n",
    "openai.api_base = os.getenv(\"AZURE_OPENAI_ENDPOINT\")\n",
    "os.environ[\"OPENAI_API_KEY\"] = os.getenv(\"AZURE_OPENAI_KEY\")\n",
    "os.environ[\"OPENAI_API_BASE\"] = os.getenv(\"AZURE_OPENAI_ENDPOINT\")\n",
    "openai.api_type = 'azure'\n",
    "openai.api_version = '2023-05-15'"
   ]
  },
  {
   "cell_type": "code",
   "execution_count": 23,
   "id": "aedd8121-303b-4dc0-9505-d94bbd995e21",
   "metadata": {
    "tags": []
   },
   "outputs": [],
   "source": [
    "\n",
    "def llama_index_generate(references):\n",
    "    \"\"\"llama-indexによるインデックスの生成\"\"\"\n",
    "    # LLM Predictor\n",
    "    llm_predictor = LLMPredictor(llm=AzureChatOpenAI(\n",
    "        deployment_name='GPT35TURBO',         # デプロイ名\n",
    "        max_tokens=1000,                      # 最大トークン数\n",
    "        temperature=0,                        # 出力のランダム度合い\n",
    "        openai_api_version=openai.api_version # openaiのapiのバージョン情報\n",
    "    ))\n",
    "\n",
    "    #テキストの埋め込みベクトル変換(Embedding)に関する設定\n",
    "    embeddings = LangchainEmbedding(OpenAIEmbeddings(\n",
    "        engine=\"ADA\",       # エンベディングに使うモデル\n",
    "        chunk_size=1,                         # ここでのチャンクサイズはバッチサイズ\n",
    "        openai_api_version=openai.api_version # openaiのapiのバージョン情報\n",
    "    ))\n",
    "\n",
    "    #  Prompt Helper（テキスト分割に関する設定）\n",
    "    prompt_helper = PromptHelper(\n",
    "        max_input_size=3000,    # 最大入力サイズ\n",
    "        num_output=1000,        # LLMの出力サイズ\n",
    "        chunk_size_limit=3000,  # 使用する最大チャンクサイズ（チャンク：テキストを細かく分割したもの）\n",
    "        max_chunk_overlap=0,    # チャンクオーバーラップの最大トークン数\n",
    "        separator=\"。\"          # テキスト分割の区切り文字\n",
    "    )\n",
    "\n",
    "    # Service Context（インデックスを作ったりクエリを実行する際に必要になるものをまとめたもの）\n",
    "    service_context = ServiceContext.from_defaults(\n",
    "        llm_predictor=llm_predictor, # LLM Predictor\n",
    "        embed_model=embeddings,      # エンベディングについての設定\n",
    "        prompt_helper=prompt_helper  # Prompt Helper\n",
    "    )\n",
    "\n",
    "    # インデックスの生成\n",
    "    index = GPTVectorStoreIndex.from_documents(\n",
    "        references,                      # 参考として与えたデータ（商品リスト）\n",
    "        service_context=service_context, # Service Context\n",
    "        prompt_helper=prompt_helper      # Prompt Helper\n",
    "    )\n",
    "\n",
    "    return index\n",
    "\n",
    "def llama_index_getdocument(text_list):\n",
    "    \"\"\"テキストのリストをまとめたdocumentsを返す\"\"\"\n",
    "    documents = [Document(t) for t in text_list]\n",
    "\n",
    "    return documents\n",
    "\n",
    "def llama_generate(index, query, top_k):\n",
    "    \"\"\"llama-indexによる回答の生成\"\"\"\n",
    "    # 与えるコンテキスト（商品リストのうちクエリとの類似度が高いもの）をもとに回答をもとめるようなプロンプト\n",
    "    QA_PROMPT_TMPL = (\n",
    "        \"私たちは以下の情報をコンテキスト情報として与えます。 \\n\"\n",
    "        \"---------------------\\n\"\n",
    "        \"{context_str}\"\n",
    "        \"\\n---------------------\\n\"\n",
    "        \"この情報をもとに質問に日本語で回答してください。: {query_str}\\n\"\n",
    "    )\n",
    "    qa_prompt = QuestionAnswerPrompt(QA_PROMPT_TMPL)\n",
    "    \n",
    "    # 回答生成\n",
    "    with st.spinner(\"検索中（1分ほどかかります）...\"):\n",
    "        # プロンプトと上位いくつまでの類似度を使用するか設定\n",
    "        query_engine = index.as_query_engine(\n",
    "            text_qa_template=qa_prompt, # 上記のプロンプトを与える（デフォルトは英語文）\n",
    "            similarity_top_k=top_k      # 参考情報（商品リスト）のうちクエリとの類似度上位何件を生成に利用するか\n",
    "        )\n",
    "        # 生成\n",
    "        response = query_engine.query(query)\n",
    "\n",
    "    return response\n",
    "\n",
    "def get_chatgpt_response(past_messages):\n",
    "    \"\"\"ChatGPTにより回答生成\"\"\"\n",
    "    response = openai.ChatCompletion.create(\n",
    "        engine='gpt-35-turbo',\n",
    "        messages=past_messages,\n",
    "        max_tokens=1500\n",
    "    )\n",
    "    return response.choices[0].message.content"
   ]
  },
  {
   "cell_type": "code",
   "execution_count": 6,
   "id": "29b7fc3f-8386-403a-be51-fcbddef2a7a8",
   "metadata": {
    "tags": []
   },
   "outputs": [
    {
     "name": "stdout",
     "output_type": "stream",
     "text": [
      "  % Total    % Received % Xferd  Average Speed   Time    Time     Time  Current\n",
      "                                 Dload  Upload   Total   Spent    Left  Speed\n",
      "100 75042  100 75042    0     0   181k      0 --:--:-- --:--:-- --:--:--  181k\n"
     ]
    }
   ],
   "source": [
    "!mkdir -p 'data/paul_graham/'\n",
    "!curl 'https://raw.githubusercontent.com/run-llama/llama_index/main/docs/examples/data/paul_graham/paul_graham_essay.txt' -o 'data/paul_graham/paul_graham_essay.txt'"
   ]
  },
  {
   "cell_type": "code",
   "execution_count": 18,
   "id": "03db4b3d-8e1a-4c50-b133-9820473961d9",
   "metadata": {
    "tags": []
   },
   "outputs": [],
   "source": [
    "# 商品リストを変換\n",
    "df = pd.read_csv(\"list.csv\", encoding=\"shift-jis\")\n",
    "columns = df.columns\n",
    "df[\"_text\"] = \"\"\n",
    "for column in columns:\n",
    "    df[\"_text\"] = df[\"_text\"] + f\"【{column}】\" + df[column]\n",
    "document_list = df[\"_text\"].values\n",
    "documents = llama_index_getdocument(document_list)\n",
    "\n"
   ]
  },
  {
   "cell_type": "code",
   "execution_count": 19,
   "id": "42f16105-1494-41af-b5ce-11470c217230",
   "metadata": {
    "tags": []
   },
   "outputs": [
    {
     "data": {
      "text/plain": [
       "[Document(text='【本の名前】Python入門【本の概要】Pythonの基本的な文法や使い方を解説した入門書【本のターゲット読者】初心者向け【どういった人に読んでもらいたいか】プログラミング初心者やPythonを学びたい人に', doc_id='5da42f18-fc39-4299-8a20-d62337f109d5', embedding=None, doc_hash='a0f6e90fec9a17b25bffd3ceff7712ddebe26ebcae90e37816810ce3ff30c443', extra_info=None),\n",
       " Document(text='【本の名前】Effective Java【本の概要】Java開発において実践的なアドバイスを提供する書籍【本のターゲット読者】中級者向け【どういった人に読んでもらいたいか】Java開発に携わるプログラマに', doc_id='2d8ca0b0-b751-4eaa-91ad-aa925554b4b9', embedding=None, doc_hash='a4e4b299c75492284b0a0944796f24c7f1ff3b402ffa0e688e3302bbf5b7a3ca', extra_info=None),\n",
       " Document(text='【本の名前】クリーンアーキテクチャ【本の概要】アーキテクチャの重要性や設計原則を解説し、実践的な開発手法を提供する書籍【本のターゲット読者】エンジニア向け【どういった人に読んでもらいたいか】ソフトウェアアーキテクトや開発チームリーダーに', doc_id='2af0f5c1-7c09-409e-bd33-7c6fe38c3b4e', embedding=None, doc_hash='288547b25645f2494c8ed2bb18663f7b99e6dc1d4ffd8d8b318c92037d3b5481', extra_info=None),\n",
       " Document(text='【本の名前】経営と人間性【本の概要】ビジネスの世界において、人間的な価値観を重視する姿勢が持つ意義について考察するエッセイ【本のターゲット読者】経営者向け【どういった人に読んでもらいたいか】経営者やビジネスパーソンに', doc_id='26f906fa-a882-41a9-9fad-0229a9f1a64f', embedding=None, doc_hash='82173cdcb22205289ca4c837c52dcda73b78f953b4c9627495abebb9bd1a7525', extra_info=None),\n",
       " Document(text='【本の名前】デザイン思考とは何か【本の概要】問題解決のための創造的な思考法「デザイン思考」を実践するための入門書【本のターゲット読者】ビジネスパーソン向け【どういった人に読んでもらいたいか】イノベーションや問題解決に興味がある人に', doc_id='e4a4cbc5-5638-4cfe-b502-a36676ec737f', embedding=None, doc_hash='ee9513aa8d6820a0c553f5587aefb5012fed590089f8b05f0469cb457562a6df', extra_info=None),\n",
       " Document(text='【本の名前】Kubernetes実践ガイド【本の概要】Kubernetesを実践的な観点から理解し、運用・管理するためのノウハウを提供する書籍【本のターゲット読者】システムエンジニア向け【どういった人に読んでもらいたいか】Kubernetesを導入したいエンジニアやシステム運用担当者に', doc_id='ba0e10ee-66ba-4e56-bef5-94ab9894a3ad', embedding=None, doc_hash='a36635c2bc10a4d04a2f92d3921c8c7a5be1563586ef6e53e9f56a122ee904b0', extra_info=None),\n",
       " Document(text='【本の名前】人生がときめく片づけの魔法【本の概要】整理収納のアドバイスを提供し、暮らしを整えることで人生にときめきを与える方法を紹介する本【本のターゲット読者】一般向け【どういった人に読んでもらいたいか】整理整頓に興味がある人や片づけに悩んでいる人に', doc_id='0587eef2-84e8-42af-87c3-789b7566bf25', embedding=None, doc_hash='b42b6271eae30989776b17f4fd5659141d167d95895033c07be7d31fbc2a8b81', extra_info=None),\n",
       " Document(text='【本の名前】プレゼンの心理学【本の概要】プレゼンにおける心理学を解説した書籍。プレゼンに慣れていない人から、プロのプレゼンターまで幅広く読める。【本のターゲット読者】ビジネスマン【どういった人に読んでもらいたいか】ビジネスのプレゼンテーションに悩んでいる人', doc_id='4e20c066-a7d4-4323-b854-b70d06725a52', embedding=None, doc_hash='a2d2fde7737bdf66af924c316de30bc59ac999822bdfddab787d63a87dbab417', extra_info=None),\n",
       " Document(text='【本の名前】トレーニングの科学【本の概要】トレーニングにおける科学的な知識をまとめた書籍。トレーニング初心者から上級者まで幅広く読める。【本のターゲット読者】フィットネス愛好家【どういった人に読んでもらいたいか】自己啓発を目的とした人', doc_id='d7848bf0-4bc1-4d56-a707-33732cb765f1', embedding=None, doc_hash='4ab4c2a8f667ece336a761b470d5b154477411ba25932ef2b32fa0e1cbd5e632', extra_info=None),\n",
       " Document(text='【本の名前】ビジネス英会話の技術【本の概要】ビジネス英会話のテクニックを解説した書籍。英語力があるがビジネス英会話が苦手な人におすすめ。【本のターゲット読者】ビジネスマン【どういった人に読んでもらいたいか】海外との取引があるビジネスマン', doc_id='7ca7fa85-e8b2-4c83-b405-98d4082c0c4d', embedding=None, doc_hash='03251de6c2d5fa2ef535dee8f20c595d3f2494eac63b0ce7a0e61916a6697efc', extra_info=None),\n",
       " Document(text='【本の名前】社交力の鍛え方【本の概要】社交力の鍛え方を解説した書籍。コミュニケーションが苦手な人や、人との接し方に悩んでいる人におすすめ。【本のターゲット読者】一般の人【どういった人に読んでもらいたいか】コミュニケーション能力を高めたい人', doc_id='47a7ea5a-b110-4bd6-aff2-a58a204b7de5', embedding=None, doc_hash='ada9d9624a205da0f1479c24f563748b10feb1d90fd08efe914d237afea79f37', extra_info=None),\n",
       " Document(text='【本の名前】心理学入門【本の概要】心理学の基本的な知識を解説した書籍。初心者から学べる内容となっている。【本のターゲット読者】一般の人【どういった人に読んでもらいたいか】自分自身や周りの人の心理を理解したい人', doc_id='34c20882-ad13-4a05-9d7e-f232343de576', embedding=None, doc_hash='2ece89a3248e18e426b3e05a1b4efc9d8b7b21f92c0780d2191faf7f62f90e3e', extra_info=None),\n",
       " Document(text='【本の名前】マーケティング戦略の基礎【本の概要】マーケティング戦略の基礎を解説した書籍。マーケティング初心者から上級者まで幅広く読める。【本のターゲット読者】ビジネスマン【どういった人に読んでもらいたいか】マーケティング戦略を磨きたい人', doc_id='6e7dd3fd-18ea-45de-b120-8e2a83d50294', embedding=None, doc_hash='6dc1b49b3dc7b602561a012ebced57b767bb832322ae67636b4aac646784cb91', extra_info=None),\n",
       " Document(text='【本の名前】AIの基礎【本の概要】人工知能の基礎を解説した書籍。初心者から学べる内容となっている。【本のターゲット読者】エンジニア【どういった人に読んでもらいたいか】AI技術に興味がある人', doc_id='a5b58214-0cf9-407c-b7f7-61f0c4f103bb', embedding=None, doc_hash='5fed54f4001a11630e7aca195aea36da3b9c5a3305925a9eed7429d3684a714b', extra_info=None),\n",
       " Document(text='【本の名前】投資の基礎知識【本の概要】投資の基礎知識を解説した書籍。初心者向けの内容となっている。【本のターゲット読者】一般の人【どういった人に読んでもらいたいか】投資に興味がある人', doc_id='9f23a113-422f-4ff2-b633-21ad9636c4de', embedding=None, doc_hash='b052844d41b62296fde5d770a97187147832fca744dbcb0edcab82874c3ad437', extra_info=None),\n",
       " Document(text='【本の名前】こんなの読んでる場合か！【本の概要】 オフィスで働く人々に向けたエッセイ集。ストレスやモチベーションの低下に悩む社会人には特におすすめです。【本のターゲット読者】社会人【どういった人に読んでもらいたいか】日々のストレスに悩む方々', doc_id='cfc6a9a2-0076-45fd-88a1-18b364e7d6c3', embedding=None, doc_hash='ee6d851a968ceffa8e13a49eb943904018bbda076c31441c6442653c48fd6380', extra_info=None),\n",
       " Document(text='【本の名前】そうは問屋が卸さない！【本の概要】 ビジネスマンとして成功するために必要な知識や心構えを、ユーモアを交えて語る一冊。【本のターゲット読者】ビジネスマン【どういった人に読んでもらいたいか】自己啓発に興味のある人々', doc_id='05f827b6-2e65-4ae5-bbf3-1719e3af3a74', embedding=None, doc_hash='ca44a0eec1e583622effb0fd27c835172ee364cd00374823dd7ea5905f8401ab', extra_info=None),\n",
       " Document(text='【本の名前】若さを武器にせよ【本の概要】 30代に向けたエッセイ集。人生の節目を迎えることに対する不安や、自分らしさの見つけ方などを語っています。【本のターゲット読者】30代【どういった人に読んでもらいたいか】自分らしさを模索している人々', doc_id='53b42ce1-4988-4dee-bd99-1640b5577c05', embedding=None, doc_hash='8bb51324820aba59a907d474f004d183ab1ab237d0d83c587de235af8558febf', extra_info=None),\n",
       " Document(text='【本の名前】パンチラインは肝心だ！【本の概要】 コメディアンとして活躍する著者が、笑いを誘うための技術や、人生におけるユーモアの重要性について述べた一冊。【本のターゲット読者】コメディアン志望者【どういった人に読んでもらいたいか】笑いを求める人々', doc_id='f272c956-f4c4-4fa5-99f0-695f7066638a', embedding=None, doc_hash='3daf858ed1ad5067faf90f2eebf17c3eec5e1594a10947cd6223366d886d2428', extra_info=None),\n",
       " Document(text='【本の名前】きみにしか聞こえない【本の概要】 人間関係の悩みについて、心理学や著者自身の経験を交えて語ったエッセイ。自分自身や周りの人とのコミュニケーションに苦手意識のある人におすすめです。【本のターゲット読者】人間関係に悩む人々【どういった人に読んでもらいたいか】自己啓発に興味のある人々', doc_id='de106207-ee33-45a6-ae4c-4db1918dcfd1', embedding=None, doc_hash='8c273afc70e7b945dc1b290607644199f59f4114b800f95cba35a253fd9de850', extra_info=None),\n",
       " Document(text='【本の名前】頭でっかちになるな！【本の概要】 キャリアアップに必要な知識やスキルを、経験豊富な著者がわかりやすく解説した一冊。【本のターゲット読者】キャリアアップ志望者【どういった人に読んでもらいたいか】成功に興味のある人々', doc_id='9d83f61d-31a0-449d-8f7f-d7d5889c516b', embedding=None, doc_hash='00ff5b13304a006b7f196ff0837d8fe8ed5bb67b587f4f520af8451ce8dfa924', extra_info=None),\n",
       " Document(text='【本の名前】マーケティングの秘訣【本の概要】 ビジネスにおいて重要なマーケティングの知識を、実践的な事例や著者自身の体験を交えて語った一冊。【本のターゲット読者】ビジネスマン【どういった人に読んでもらいたいか】ビジネスの成功に興味のある人々', doc_id='39881818-9ee3-4633-89ef-30d942d5ce63', embedding=None, doc_hash='6bf30c640588e3761d20e20491b5353e84bc7457f7792b05f3fe1b81150b549b', extra_info=None),\n",
       " Document(text='【本の名前】健康な身体を作る食事術【本の概要】 食べることの重要性や栄養バランスの考え方について解説した、健康志向の方におすすめの本です【本のターゲット読者】 健康志向の方【どういった人に読んでもらいたいか】 体に良い食事をしたい方', doc_id='dbe45d77-d433-4a20-be32-a707aeeaf847', embedding=None, doc_hash='d38c45aea7f67cfe98d69d89c19df892332ecdb162de02b02f55ea5a3bafd37a', extra_info=None),\n",
       " Document(text='【本の名前】ストレスフリーに生きるための習慣【本の概要】 ストレスが原因で起こる様々な症状や、ストレスを減らす方法について解説した、現代人に必要な本です【本のターゲット読者】 忙しいビジネスパーソン【どういった人に読んでもらいたいか】 ストレスを感じやすい方', doc_id='e8e9b438-5ead-4825-be12-5db9611fd94a', embedding=None, doc_hash='5b4b7d7c86e8b1a243bb874125a263eafae1654245a236d240209867e121e421', extra_info=None),\n",
       " Document(text='【本の名前】体と心を整えるヨガの基本【本の概要】 ヨガのポーズや呼吸法、瞑想について解説した、初心者にもわかりやすい本です【本のターゲット読者】 心身のバランスを取りたい方【どういった人に読んでもらいたいか】 瞑想やリラックスしたい方', doc_id='9c5c97b8-1b0f-4611-9d92-7e165401d03f', embedding=None, doc_hash='85e73f05c24675a72e417d04d7a9823bf549eae63082a25bd66ca6baac0355e6', extra_info=None)]"
      ]
     },
     "execution_count": 19,
     "metadata": {},
     "output_type": "execute_result"
    }
   ],
   "source": [
    "documents"
   ]
  },
  {
   "cell_type": "code",
   "execution_count": 21,
   "id": "7258a5fd-24cd-4db2-9352-564c705d63b4",
   "metadata": {
    "tags": []
   },
   "outputs": [
    {
     "name": "stderr",
     "output_type": "stream",
     "text": [
      "/opt/conda/lib/python3.11/site-packages/langchain/embeddings/openai.py:214: UserWarning: WARNING! engine is not default parameter.\n",
      "                    engine was transferred to model_kwargs.\n",
      "                    Please confirm that engine is what you intended.\n",
      "  warnings.warn(\n",
      "Retrying langchain.embeddings.openai.embed_with_retry.<locals>._embed_with_retry in 4.0 seconds as it raised RateLimitError: Requests to the Get a vector representation of a given input that can be easily consumed by machine learning models and algorithms. Operation under Azure OpenAI API version 2023-05-15 have exceeded call rate limit of your current OpenAI S0 pricing tier. Please retry after 7 seconds. Please go here: https://aka.ms/oai/quotaincrease if you would like to further increase the default rate limit..\n",
      "Retrying langchain.embeddings.openai.embed_with_retry.<locals>._embed_with_retry in 4.0 seconds as it raised RateLimitError: Requests to the Get a vector representation of a given input that can be easily consumed by machine learning models and algorithms. Operation under Azure OpenAI API version 2023-05-15 have exceeded call rate limit of your current OpenAI S0 pricing tier. Please retry after 3 seconds. Please go here: https://aka.ms/oai/quotaincrease if you would like to further increase the default rate limit..\n"
     ]
    }
   ],
   "source": [
    "# テキストのリストをまとめたdocumentsを返す\n",
    "\n",
    "\n",
    "index = llama_index_generate(documents)"
   ]
  },
  {
   "cell_type": "code",
   "execution_count": 22,
   "id": "1d0bbdcf-ef6f-42d8-b42a-479606c647c1",
   "metadata": {
    "tags": []
   },
   "outputs": [
    {
     "data": {
      "text/plain": [
       "<llama_index.indices.vector_store.base.GPTVectorStoreIndex at 0x7f89d9d6f810>"
      ]
     },
     "execution_count": 22,
     "metadata": {},
     "output_type": "execute_result"
    }
   ],
   "source": [
    "index"
   ]
  },
  {
   "cell_type": "code",
   "execution_count": 25,
   "id": "fe831c80-b0e5-465c-9603-cdc0359d55bb",
   "metadata": {
    "tags": []
   },
   "outputs": [
    {
     "name": "stderr",
     "output_type": "stream",
     "text": [
      "2024-01-11 00:04:53.632 \n",
      "  \u001b[33m\u001b[1mWarning:\u001b[0m to view this Streamlit app on a browser, run it with the following\n",
      "  command:\n",
      "\n",
      "    streamlit run /opt/conda/lib/python3.11/site-packages/ipykernel_launcher.py [ARGUMENTS]\n"
     ]
    },
    {
     "name": "stdout",
     "output_type": "stream",
     "text": [
      "適しているもの：マーケティングの秘訣\n",
      "選んだ理由：顧客情報によると、この顧客はビジネスの成功に興味があり、ビジネスマンであるとされています。そのため、マーケティングの知識を学ぶことは彼らのビジネスにとって非常に重要であり、彼らの成功に役立つでしょう。\n",
      "\n",
      "推薦メッセージ：「ビジネスの成功に興味をお持ちの方におすすめの書籍『マーケティングの秘訣』です。この本は、ビジネスにおいて重要なマーケティングの知識を実践的な事例や著者自身の体験を交えて語っています。あなたのビジネスに役立つ情報が満載であり、成功への一歩を踏み出すためのヒントが詰まっています。ぜひ一読してみてください。」\n"
     ]
    }
   ],
   "source": [
    "# クエリ （description：アップロードした顧客情報)\n",
    "query = f\"あなたは顧客に商品を推薦する営業です。\\\n",
    "以下の顧客情報に一番適しているものを提案してください。\\\n",
    "その理由も回答してください。\\\n",
    "また、推薦する際に顧客が購入したくなるような文章を生成してください。\\\n",
    "顧客情報： \\\n",
    "出力形式は以下のようにしてください。\\\n",
    "適しているもの：\\\n",
    "選んだ理由：\\\n",
    "推薦メッセージ：\"\n",
    "\n",
    "# llama-indexによる回答の生成\n",
    "result = llama_generate(index=index, query=query, top_k=1)\n",
    "\n",
    "# 回答の表示\n",
    "result = str(result)\n",
    "print(result)"
   ]
  },
  {
   "cell_type": "code",
   "execution_count": null,
   "id": "0725a433-21bf-4537-815c-918e5ebf7e9b",
   "metadata": {},
   "outputs": [],
   "source": []
  }
 ],
 "metadata": {
  "kernelspec": {
   "display_name": "Python 3 (ipykernel)",
   "language": "python",
   "name": "python3"
  },
  "language_info": {
   "codemirror_mode": {
    "name": "ipython",
    "version": 3
   },
   "file_extension": ".py",
   "mimetype": "text/x-python",
   "name": "python",
   "nbconvert_exporter": "python",
   "pygments_lexer": "ipython3",
   "version": "3.11.5"
  }
 },
 "nbformat": 4,
 "nbformat_minor": 5
}
